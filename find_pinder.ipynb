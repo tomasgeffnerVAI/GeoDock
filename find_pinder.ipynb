{
 "cells": [
  {
   "cell_type": "code",
   "execution_count": 7,
   "metadata": {},
   "outputs": [],
   "source": [
    "# from pinder.core import get_pinder_location\n",
    "# get_pinder_location()\n",
    "\n",
    "import pandas as pd\n",
    "from pathlib import Path"
   ]
  },
  {
   "cell_type": "code",
   "execution_count": 8,
   "metadata": {},
   "outputs": [],
   "source": [
    "index_path = '/mnt/disks/pinder-us-east5-a-2023-11-28/index.csv.gz'\n",
    "\n",
    "def get_index(csv_name: str = \"index.csv.gz\") -> pd.DataFrame:\n",
    "    \"\"\"\n",
    "    Retrieves the Pinder index as a pandas DataFrame. If the index is not already\n",
    "    loaded, it reads from the local CSV file, or downloads it if not present.\n",
    "\n",
    "    Parameters:\n",
    "        csv_name (str): The name of the CSV file to load. Defaults to \"index.csv.gz\".\n",
    "\n",
    "    Returns:\n",
    "        pd.DataFrame: The Pinder index as a DataFrame.\n",
    "    \"\"\"\n",
    "    local_index = Path(index_path)\n",
    "    if local_index.is_file():\n",
    "        pindex = pd.read_csv(local_index)\n",
    "    #else:\n",
    "    #    pindex = pd.read_csv(get_index_location(csv_name, remote=True))\n",
    "    #    pindex.to_csv(local_index, index=False)\n",
    "    pindex.loc[pindex.affinity_class.isna(), \"affinity_class\"] = \"\"\n",
    "    pindex.loc[pindex.apo_R_pdb.isna(), \"apo_R_pdb\"] = \"\"\n",
    "    pindex.loc[pindex.apo_L_pdb.isna(), \"apo_L_pdb\"] = \"\"\n",
    "    pindex.loc[pindex.apo_R_pdbs.isna(), \"apo_R_pdbs\"] = \"\"\n",
    "    pindex.loc[pindex.apo_L_pdbs.isna(), \"apo_L_pdbs\"] = \"\"\n",
    "    pindex.loc[pindex.predicted_R_pdb.isna(), \"predicted_R_pdb\"] = \"\"\n",
    "    pindex.loc[pindex.predicted_L_pdb.isna(), \"predicted_L_pdb\"] = \"\"\n",
    "    return pindex\n",
    "\n",
    "\n"
   ]
  },
  {
   "cell_type": "code",
   "execution_count": 10,
   "metadata": {},
   "outputs": [],
   "source": [
    "pindex = get_index()"
   ]
  },
  {
   "cell_type": "code",
   "execution_count": 19,
   "metadata": {},
   "outputs": [
    {
     "name": "stdout",
     "output_type": "stream",
     "text": [
      "64601 62357\n"
     ]
    }
   ],
   "source": [
    "# pindex\n",
    "# cluster_list = \n",
    "\n",
    "train_df = pindex[pindex['split']==\"train\"]\n",
    "val_df = pindex[pindex['split']==\"val\"]\n",
    "test_df = pindex[pindex['split']==\"test\"]\n",
    "\n",
    "\n",
    "print(len(pindex['cluster_id'].unique().tolist()),\n",
    "len(train_df['cluster_id'].unique().tolist()))\n",
    "# pindex[pindex['split']==\"train\"]"
   ]
  },
  {
   "cell_type": "code",
   "execution_count": 20,
   "metadata": {},
   "outputs": [
    {
     "name": "stdout",
     "output_type": "stream",
     "text": [
      "236127 1788 1799\n"
     ]
    }
   ],
   "source": [
    "print(len(pindex[pindex['split']==\"train\"]),len(pindex[pindex['split']==\"val\"]), len(pindex[pindex['split']==\"test\"]))"
   ]
  },
  {
   "cell_type": "code",
   "execution_count": null,
   "metadata": {},
   "outputs": [],
   "source": []
  }
 ],
 "metadata": {
  "kernelspec": {
   "display_name": "pinder",
   "language": "python",
   "name": "python3"
  },
  "language_info": {
   "codemirror_mode": {
    "name": "ipython",
    "version": 3
   },
   "file_extension": ".py",
   "mimetype": "text/x-python",
   "name": "python",
   "nbconvert_exporter": "python",
   "pygments_lexer": "ipython3",
   "version": "3.9.18"
  }
 },
 "nbformat": 4,
 "nbformat_minor": 2
}
